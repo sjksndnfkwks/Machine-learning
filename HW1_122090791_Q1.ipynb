{
 "cells": [
  {
   "cell_type": "code",
   "execution_count": 1,
   "id": "7d93e319-ae64-440a-9e20-b31c4cfa9651",
   "metadata": {},
   "outputs": [
    {
     "name": "stdout",
     "output_type": "stream",
     "text": [
      "Bias (w_0):  3.613646026669069\n",
      "Coefficients (w_1 to w_11):  [1.53256904e-02 2.52276406e-04 7.20386850e-04 9.99163565e-01\n",
      " 9.99740236e-01 1.00062340e+00 9.98832359e-01 1.00000130e+00\n",
      " 1.00022455e+00 9.99039615e-01 9.99344846e-01]\n",
      "Predicted y values for test set:  [ -56.11129688 -173.51651971   -6.77087791  209.51709044  116.89029785\n",
      " -100.29084527 -310.127839    501.38630194  244.11476781   18.56639325]\n"
     ]
    }
   ],
   "source": [
    "# 2.1.1\n",
    "import numpy as np\n",
    "from sklearn.linear_model import LinearRegression\n",
    "\n",
    "# load train data and test data\n",
    "train_data = np.loadtxt('linear_regression_train.txt')\n",
    "test_data = np.loadtxt('linear_regression_test.txt')\n",
    "\n",
    "# extract train data and test data\n",
    "X_train = train_data[:, :-1]\n",
    "y_train = train_data[:, -1]\n",
    "\n",
    "# since test_data only contain features\n",
    "X_test = test_data\n",
    "\n",
    "# linear regression model\n",
    "model = LinearRegression()\n",
    "model.fit(X_train, y_train)\n",
    "\n",
    "# w and b\n",
    "w_0 = model.intercept_\n",
    "w = model.coef_\n",
    "\n",
    "# predice y on test data set\n",
    "y_pred = model.predict(X_test)\n",
    "\n",
    "print(\"Bias (w_0): \", w_0)\n",
    "print(\"Coefficients (w_1 to w_11): \", w)\n",
    "print(\"Predicted y values for test set: \", y_pred)"
   ]
  },
  {
   "cell_type": "code",
   "execution_count": 2,
   "id": "fec35b14-ed9b-4987-b27e-edfa802fe69f",
   "metadata": {},
   "outputs": [
    {
     "name": "stdout",
     "output_type": "stream",
     "text": [
      "Bias (w_0):  3.6136460266688384\n",
      "Coefficients (w_1 to w_11):  [3.61364603e+00 1.53256904e-02 2.52276406e-04 7.20386850e-04\n",
      " 9.99163565e-01 9.99740236e-01 1.00062340e+00 9.98832359e-01\n",
      " 1.00000130e+00 1.00022455e+00 9.99039615e-01 9.99344846e-01]\n",
      "Predicted y values for test set:  [ -56.11129688 -173.51651971   -6.77087791  209.51709044  116.89029785\n",
      " -100.29084527 -310.127839    501.38630194  244.11476781   18.56639325]\n"
     ]
    }
   ],
   "source": [
    "#2.1.2\n",
    "import numpy as np\n",
    "\n",
    "train_data = np.loadtxt('linear_regression_train.txt')\n",
    "test_data = np.loadtxt('linear_regression_test.txt')\n",
    "\n",
    "# same as before\n",
    "X_train = train_data[:, :-1]\n",
    "y_train = train_data[:, -1]\n",
    "X_test = test_data\n",
    "\n",
    "# add a column of 1 to X_train to calculate w0\n",
    "X = np.hstack((np.ones((X_train.shape[0], 1)), X_train))\n",
    "\n",
    "# w = (X^T * X)^(-1) * X^T * y_train\n",
    "w = np.linalg.inv(X.T @ X) @ X.T @ y_train\n",
    "\n",
    "# extract w\n",
    "w_0 = w[0]\n",
    "w_1_to_11 = w[1:]\n",
    "\n",
    "# same as X_train, add a column of 1\n",
    "X_test_with_bias = np.hstack((np.ones((X_test.shape[0], 1)), X_test))\n",
    "y_pred = X_test_with_bias @ w\n",
    "\n",
    "print(\"Bias (w_0): \", w_0)\n",
    "print(\"Coefficients (w_1 to w_11): \", w)\n",
    "print(\"Predicted y values for test set: \", y_pred)"
   ]
  },
  {
   "cell_type": "code",
   "execution_count": null,
   "id": "dcea1aa2-60fb-4112-bba6-5aec9b486ceb",
   "metadata": {},
   "outputs": [],
   "source": []
  }
 ],
 "metadata": {
  "kernelspec": {
   "display_name": "Python 3 (ipykernel)",
   "language": "python",
   "name": "python3"
  },
  "language_info": {
   "codemirror_mode": {
    "name": "ipython",
    "version": 3
   },
   "file_extension": ".py",
   "mimetype": "text/x-python",
   "name": "python",
   "nbconvert_exporter": "python",
   "pygments_lexer": "ipython3",
   "version": "3.12.3"
  }
 },
 "nbformat": 4,
 "nbformat_minor": 5
}
